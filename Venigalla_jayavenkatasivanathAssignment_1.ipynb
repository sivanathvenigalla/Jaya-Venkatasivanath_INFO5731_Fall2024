{
  "cells": [
    {
      "cell_type": "markdown",
      "metadata": {
        "id": "view-in-github",
        "colab_type": "text"
      },
      "source": [
        "<a href=\"https://colab.research.google.com/github/sivanathvenigalla/Jaya-Venkatasivanath_INFO5731_Fall2024/blob/main/Venigalla_jayavenkatasivanathAssignment_1.ipynb\" target=\"_parent\"><img src=\"https://colab.research.google.com/assets/colab-badge.svg\" alt=\"Open In Colab\"/></a>"
      ]
    },
    {
      "cell_type": "markdown",
      "metadata": {
        "id": "Ryk8D1Q4Wsrp"
      },
      "source": [
        "# **INFO5731 Assignment One**"
      ]
    },
    {
      "cell_type": "code",
      "source": [
        "from google.colab import files\n",
        "\n",
        "uploaded = files.upload()"
      ],
      "metadata": {
        "colab": {
          "base_uri": "https://localhost:8080/",
          "height": 74
        },
        "id": "NkGqhsQ5c3NZ",
        "outputId": "e270ab75-4c4c-431f-ca4e-bf2dfeef1553"
      },
      "execution_count": 17,
      "outputs": [
        {
          "output_type": "display_data",
          "data": {
            "text/plain": [
              "<IPython.core.display.HTML object>"
            ],
            "text/html": [
              "\n",
              "     <input type=\"file\" id=\"files-0a867ada-9ecd-4fbb-aa19-fac7b6ef86db\" name=\"files[]\" multiple disabled\n",
              "        style=\"border:none\" />\n",
              "     <output id=\"result-0a867ada-9ecd-4fbb-aa19-fac7b6ef86db\">\n",
              "      Upload widget is only available when the cell has been executed in the\n",
              "      current browser session. Please rerun this cell to enable.\n",
              "      </output>\n",
              "      <script>// Copyright 2017 Google LLC\n",
              "//\n",
              "// Licensed under the Apache License, Version 2.0 (the \"License\");\n",
              "// you may not use this file except in compliance with the License.\n",
              "// You may obtain a copy of the License at\n",
              "//\n",
              "//      http://www.apache.org/licenses/LICENSE-2.0\n",
              "//\n",
              "// Unless required by applicable law or agreed to in writing, software\n",
              "// distributed under the License is distributed on an \"AS IS\" BASIS,\n",
              "// WITHOUT WARRANTIES OR CONDITIONS OF ANY KIND, either express or implied.\n",
              "// See the License for the specific language governing permissions and\n",
              "// limitations under the License.\n",
              "\n",
              "/**\n",
              " * @fileoverview Helpers for google.colab Python module.\n",
              " */\n",
              "(function(scope) {\n",
              "function span(text, styleAttributes = {}) {\n",
              "  const element = document.createElement('span');\n",
              "  element.textContent = text;\n",
              "  for (const key of Object.keys(styleAttributes)) {\n",
              "    element.style[key] = styleAttributes[key];\n",
              "  }\n",
              "  return element;\n",
              "}\n",
              "\n",
              "// Max number of bytes which will be uploaded at a time.\n",
              "const MAX_PAYLOAD_SIZE = 100 * 1024;\n",
              "\n",
              "function _uploadFiles(inputId, outputId) {\n",
              "  const steps = uploadFilesStep(inputId, outputId);\n",
              "  const outputElement = document.getElementById(outputId);\n",
              "  // Cache steps on the outputElement to make it available for the next call\n",
              "  // to uploadFilesContinue from Python.\n",
              "  outputElement.steps = steps;\n",
              "\n",
              "  return _uploadFilesContinue(outputId);\n",
              "}\n",
              "\n",
              "// This is roughly an async generator (not supported in the browser yet),\n",
              "// where there are multiple asynchronous steps and the Python side is going\n",
              "// to poll for completion of each step.\n",
              "// This uses a Promise to block the python side on completion of each step,\n",
              "// then passes the result of the previous step as the input to the next step.\n",
              "function _uploadFilesContinue(outputId) {\n",
              "  const outputElement = document.getElementById(outputId);\n",
              "  const steps = outputElement.steps;\n",
              "\n",
              "  const next = steps.next(outputElement.lastPromiseValue);\n",
              "  return Promise.resolve(next.value.promise).then((value) => {\n",
              "    // Cache the last promise value to make it available to the next\n",
              "    // step of the generator.\n",
              "    outputElement.lastPromiseValue = value;\n",
              "    return next.value.response;\n",
              "  });\n",
              "}\n",
              "\n",
              "/**\n",
              " * Generator function which is called between each async step of the upload\n",
              " * process.\n",
              " * @param {string} inputId Element ID of the input file picker element.\n",
              " * @param {string} outputId Element ID of the output display.\n",
              " * @return {!Iterable<!Object>} Iterable of next steps.\n",
              " */\n",
              "function* uploadFilesStep(inputId, outputId) {\n",
              "  const inputElement = document.getElementById(inputId);\n",
              "  inputElement.disabled = false;\n",
              "\n",
              "  const outputElement = document.getElementById(outputId);\n",
              "  outputElement.innerHTML = '';\n",
              "\n",
              "  const pickedPromise = new Promise((resolve) => {\n",
              "    inputElement.addEventListener('change', (e) => {\n",
              "      resolve(e.target.files);\n",
              "    });\n",
              "  });\n",
              "\n",
              "  const cancel = document.createElement('button');\n",
              "  inputElement.parentElement.appendChild(cancel);\n",
              "  cancel.textContent = 'Cancel upload';\n",
              "  const cancelPromise = new Promise((resolve) => {\n",
              "    cancel.onclick = () => {\n",
              "      resolve(null);\n",
              "    };\n",
              "  });\n",
              "\n",
              "  // Wait for the user to pick the files.\n",
              "  const files = yield {\n",
              "    promise: Promise.race([pickedPromise, cancelPromise]),\n",
              "    response: {\n",
              "      action: 'starting',\n",
              "    }\n",
              "  };\n",
              "\n",
              "  cancel.remove();\n",
              "\n",
              "  // Disable the input element since further picks are not allowed.\n",
              "  inputElement.disabled = true;\n",
              "\n",
              "  if (!files) {\n",
              "    return {\n",
              "      response: {\n",
              "        action: 'complete',\n",
              "      }\n",
              "    };\n",
              "  }\n",
              "\n",
              "  for (const file of files) {\n",
              "    const li = document.createElement('li');\n",
              "    li.append(span(file.name, {fontWeight: 'bold'}));\n",
              "    li.append(span(\n",
              "        `(${file.type || 'n/a'}) - ${file.size} bytes, ` +\n",
              "        `last modified: ${\n",
              "            file.lastModifiedDate ? file.lastModifiedDate.toLocaleDateString() :\n",
              "                                    'n/a'} - `));\n",
              "    const percent = span('0% done');\n",
              "    li.appendChild(percent);\n",
              "\n",
              "    outputElement.appendChild(li);\n",
              "\n",
              "    const fileDataPromise = new Promise((resolve) => {\n",
              "      const reader = new FileReader();\n",
              "      reader.onload = (e) => {\n",
              "        resolve(e.target.result);\n",
              "      };\n",
              "      reader.readAsArrayBuffer(file);\n",
              "    });\n",
              "    // Wait for the data to be ready.\n",
              "    let fileData = yield {\n",
              "      promise: fileDataPromise,\n",
              "      response: {\n",
              "        action: 'continue',\n",
              "      }\n",
              "    };\n",
              "\n",
              "    // Use a chunked sending to avoid message size limits. See b/62115660.\n",
              "    let position = 0;\n",
              "    do {\n",
              "      const length = Math.min(fileData.byteLength - position, MAX_PAYLOAD_SIZE);\n",
              "      const chunk = new Uint8Array(fileData, position, length);\n",
              "      position += length;\n",
              "\n",
              "      const base64 = btoa(String.fromCharCode.apply(null, chunk));\n",
              "      yield {\n",
              "        response: {\n",
              "          action: 'append',\n",
              "          file: file.name,\n",
              "          data: base64,\n",
              "        },\n",
              "      };\n",
              "\n",
              "      let percentDone = fileData.byteLength === 0 ?\n",
              "          100 :\n",
              "          Math.round((position / fileData.byteLength) * 100);\n",
              "      percent.textContent = `${percentDone}% done`;\n",
              "\n",
              "    } while (position < fileData.byteLength);\n",
              "  }\n",
              "\n",
              "  // All done.\n",
              "  yield {\n",
              "    response: {\n",
              "      action: 'complete',\n",
              "    }\n",
              "  };\n",
              "}\n",
              "\n",
              "scope.google = scope.google || {};\n",
              "scope.google.colab = scope.google.colab || {};\n",
              "scope.google.colab._files = {\n",
              "  _uploadFiles,\n",
              "  _uploadFilesContinue,\n",
              "};\n",
              "})(self);\n",
              "</script> "
            ]
          },
          "metadata": {}
        },
        {
          "output_type": "stream",
          "name": "stdout",
          "text": [
            "Saving Assignment1_denton_housing.csv to Assignment1_denton_housing.csv\n"
          ]
        }
      ]
    },
    {
      "cell_type": "markdown",
      "source": [
        "This assignment includes range of programming tasks and data analysis exercises, aiming to enhance your Python skills and proficiency in string manipulation, numerical computations, and data science. Follow the instructions carefully and design well-structured Python programs to address each question.\n",
        "\n",
        "Late Submission will have a penalty of 10% reduction for each day after the deadline."
      ],
      "metadata": {
        "id": "qcP6re2g5A5r"
      }
    },
    {
      "cell_type": "markdown",
      "metadata": {
        "id": "JkzR8cFAyGik"
      },
      "source": [
        "# Question 1 (10 points).\n",
        "\n",
        "The formula that describes the volume V of a hemisphere with radius r is the following:\n",
        "\n",
        "$ V=\\frac{2}{3}\\ast\\ \\pi\\ast\\ r^3 $\n",
        "\n",
        "Write a program to calculate the value of V when r is in the range of even numbers from 1-20. Output the result in the following format:\n",
        "\n",
        "\tr\tV\n",
        "\t2\t…\n",
        "\t4\t…\n",
        "\t6\t…\n",
        "\t.\n",
        "\t.\n",
        "\t.\n",
        "\t20\t…\n"
      ]
    },
    {
      "cell_type": "code",
      "execution_count": 24,
      "metadata": {
        "id": "jDyTKYs-yGit",
        "colab": {
          "base_uri": "https://localhost:8080/"
        },
        "outputId": "1b1641e5-25cc-463b-9b2f-e9d0bcae8bd3"
      },
      "outputs": [
        {
          "output_type": "stream",
          "name": "stdout",
          "text": [
            "r    V\n",
            "2    16.76\n",
            "4    134.04\n",
            "6    452.39\n",
            "8    1072.33\n",
            "10   2094.40\n",
            "12   3619.11\n",
            "14   5747.02\n",
            "16   8578.64\n",
            "18   12214.51\n",
            "20   16755.16\n"
          ]
        }
      ],
      "source": [
        "# Your code here\n",
        "import math\n",
        "\n",
        "def hemisphere_volume(radius):\n",
        "    return (2 / 3) * math.pi * (radius ** 3)\n",
        "\n",
        "\n",
        "print(\"r    V\")\n",
        "\n",
        "for r in range(2, 21, 2):\n",
        "    volume = hemisphere_volume(r)\n",
        "\n",
        "    print(f\"{r:<4} {volume:.2f}\")\n",
        "\n"
      ]
    },
    {
      "cell_type": "markdown",
      "metadata": {
        "id": "90_NR8c5XGWc"
      },
      "source": [
        "# Question 2 (20 points)\n",
        "\n",
        "(a) Write a Python program to generate a sequence of 12 random numbers falling within the range of 50 to 150.\n",
        "\n",
        "(b) Arrange the generated numbers in ascending order. Display the sorted list.\n",
        "\n",
        "(c) Extend the program to arrange the numbers in descending order as well. Present the sorted list accordingly.\n",
        "\n",
        "(d) Compute and output the average of the entire group of generated numbers.\n",
        "\n",
        "(e) Enhance the program to calculate and display the average of the first 6 numbers from both the ascending and descending sorted lists."
      ]
    },
    {
      "cell_type": "code",
      "execution_count": 25,
      "metadata": {
        "id": "5QX6bJjGWXY9",
        "colab": {
          "base_uri": "https://localhost:8080/"
        },
        "outputId": "5eff7a80-4452-4eb1-f66d-0f1e7e559287"
      },
      "outputs": [
        {
          "output_type": "stream",
          "name": "stdout",
          "text": [
            "Random numbers: [116, 116, 116, 147, 75, 51, 126, 54, 131, 115, 140, 106]\n",
            "Ascending order: [51, 54, 75, 106, 115, 116, 116, 116, 126, 131, 140, 147]\n",
            "Descending order: [147, 140, 131, 126, 116, 116, 116, 115, 106, 75, 54, 51]\n",
            "Average of all numbers: 107.75\n",
            "Average of  first 6 numbers (ascending): 86.16666666666667\n",
            "Average of  first 6 numbers (descending): 129.33333333333334\n"
          ]
        }
      ],
      "source": [
        "\n",
        "import random\n",
        "\n",
        "random_num = [random.randint(50, 150) for _ in range(12)]\n",
        "print(\"Random numbers:\", random_num)\n",
        "\n",
        "ascending_sorted_numbers = sorted(random_num)\n",
        "print(\"Ascending order:\", ascending_sorted_numbers)\n",
        "\n",
        "descending_sorted_numbers = sorted(random_num ,reverse=True)\n",
        "print(\"Descending order:\", descending_sorted_numbers)\n",
        "\n",
        "average_all = sum(random_num) / len(random_num)\n",
        "print(\"Average of all numbers:\", average_all)\n",
        "\n",
        "average_first_6_ascending = sum(ascending_sorted_numbers[:6]) / 6\n",
        "average_first_6_descending = sum(descending_sorted_numbers[:6]) / 6\n",
        "\n",
        "# Result Display\n",
        "\n",
        "print(\"Average of  first 6 numbers (ascending):\", average_first_6_ascending)\n",
        "print(\"Average of  first 6 numbers (descending):\", average_first_6_descending)\n",
        "\n"
      ]
    },
    {
      "cell_type": "markdown",
      "metadata": {
        "id": "1F_PZdH9Sh49"
      },
      "source": [
        "# Question 3 (20 points).\n",
        "\n",
        "Create a Python program that encompasses various string manipulation task:\n",
        "\n",
        "(a) Prompt the user to input two sentences.\n",
        "\n",
        "(b) Transform each sentence into a list, where each element corresponds to a word in the sentence. For example, if the sentences are \"Hello, how are you doing today?\" and \"This is an example sentence for the program!\"\n",
        "\n",
        "The program should output:\n",
        "['Hello', ',', 'how', 'are', 'you', 'doing', 'today', '?', 'This', 'is', 'an', 'example', 'sentence', 'for', 'the', 'program', '!']\n",
        "\n",
        "(c) Compare the two sentences. Print out a list of words that occur in both sentences.\n",
        "\n",
        "(d) Remove any punctuation from the sentence and print the sanitized sentences. It should remove at least the following characters, but it can remove more: period(“.”), comma (“,”), semicolon (“;”), and colon (“:”).\n",
        "\n",
        "(e) Count the number of vowels in each of the sentences. Print out each vowel and the occurrences  in the each of the two sentences separately, such as:\n",
        "\n",
        "Sentence1: a:2, e:2, i:0, etc.\n",
        "Sentence2: a:1, e:2, i:2, etc.\n",
        "\n",
        "Design a well-structured Python program to execute these tasks efficiently."
      ]
    },
    {
      "cell_type": "code",
      "execution_count": 26,
      "metadata": {
        "id": "Y0oOSlsOS0cq",
        "colab": {
          "base_uri": "https://localhost:8080/"
        },
        "outputId": "6de2304d-6d34-418d-e5ea-899c31ac99a0"
      },
      "outputs": [
        {
          "output_type": "stream",
          "name": "stdout",
          "text": [
            "Enter the first sentence: hello stupid \n",
            "Enter the second sentence: get lost\n",
            "List of words including punctuation:\n",
            "['hello', 'stupid', 'get', 'lost']\n",
            "Words that occur in both sentences: set()\n",
            "Sanitized sentence 1: hello stupid \n",
            "Sanitized sentence 2: get lost\n",
            "Sentence 1 vowel counts: a:0, e:1, i:1, o:1, u:1\n",
            "Sentence 2 vowel counts: a:0, e:1, i:0, o:1, u:0\n"
          ]
        }
      ],
      "source": [
        "# Your code here\n",
        "import string\n",
        "from collections import Counter\n",
        "\n",
        "def sanitize_sentence(sentence):\n",
        "    \"\"\"Remove punctuation from the sentence.\"\"\"\n",
        "    return sentence.translate(str.maketrans('', '', string.punctuation))\n",
        "\n",
        "def count_vowels(sentence):\n",
        "    \"\"\"Count the number of vowels in the sentence.\"\"\"\n",
        "    vowels = 'aeiou'\n",
        "    counts = Counter(char for char in sentence.lower() if char in vowels)\n",
        "    return {vowel: counts.get(vowel, 0) for vowel in vowels}\n",
        "\n",
        "sentence1 = input(\"Enter the first sentence: \")\n",
        "sentence2 = input(\"Enter the second sentence: \")\n",
        "\n",
        "words1 = sentence1.split()\n",
        "words2 = sentence2.split()\n",
        "print(\"List of words including punctuation:\")\n",
        "print(words1 + words2)\n",
        "\n",
        "common_words = set(words1) & set(words2)\n",
        "print(\"Words that occur in both sentences:\", common_words)\n",
        "\n",
        "sanitized_sentence1 = sanitize_sentence(sentence1)\n",
        "sanitized_sentence2 = sanitize_sentence(sentence2)\n",
        "print(\"Sanitized sentence 1:\", sanitized_sentence1)\n",
        "print(\"Sanitized sentence 2:\", sanitized_sentence2)\n",
        "\n",
        "vowel_counts1 = count_vowels(sanitized_sentence1)\n",
        "vowel_counts2 = count_vowels(sanitized_sentence2)\n",
        "print(\"Sentence 1 vowel counts:\", ', '.join(f\"{vowel}:{count}\" for vowel, count in vowel_counts1.items()))\n",
        "print(\"Sentence 2 vowel counts:\", ', '.join(f\"{vowel}:{count}\" for vowel, count in vowel_counts2.items()))\n",
        "\n"
      ]
    },
    {
      "cell_type": "markdown",
      "source": [
        "# Question 4 (20 Points)"
      ],
      "metadata": {
        "id": "OP4-5qxAtInv"
      }
    },
    {
      "cell_type": "markdown",
      "source": [
        "Design and implement a simple command-line calculator program. The program should handle both integers and floating-point numbers.\n",
        "\n",
        "(a) Write program that takes a mathematical expression as input and evaluates it. The program should support addition, subtraction, multiplication, and division.\n",
        "\n",
        "(b) Extend the calculator to handle parentheses in mathematical expressions. Implement the necessary logic to evaluate expressions with nested parentheses.\n",
        "\n",
        "(c) Enhance your calculator to include additional mathematical operations such as exponentiation, square root, and modulus.\n",
        "\n",
        "(d) Implement error handling in the calculator program. Handle cases such as division by zero and invalid input expressions. Provide meaningful error messages.\n",
        "\n",
        "(e) Implement a command to exit the calculator."
      ],
      "metadata": {
        "id": "uzN4_hDptK9U"
      }
    },
    {
      "cell_type": "code",
      "source": [
        "# Your code here\n",
        "import math\n",
        "\n",
        "def evaluate_expression(expression):\n",
        "    \"\"\"___Evaluate the mathematical expression.___\"\"\"\n",
        "    try:\n",
        "\n",
        "        result = eval(expression, {\"__builtins__\": None}, {\"sqrt\": math.sqrt, \"pow\": pow, \"mod\": lambda x, y: x % y})\n",
        "        return result\n",
        "    except ZeroDivisionError:\n",
        "        return \"Error: Division by zero is not allowed.\"\n",
        "    except (SyntaxError, NameError):\n",
        "        return \"Error: Invalid input expression.\"\n",
        "    except Exception as e:\n",
        "        return f\"Error: {str(e)}\"\n",
        "\n",
        "def calculator():\n",
        "    \"\"\"Run the calculator program.\"\"\"\n",
        "    print(\"Simple Command-Line Calculator\")\n",
        "    print(\"Supported operations: +, -, *, /, ** (exponentiation), sqrt (square root), % (modulus)\")\n",
        "    print(\"Type 'exit' to quit the program.\")\n",
        "\n",
        "    while True:\n",
        "        expression = input(\"Enter expression: \").strip()\n",
        "\n",
        "        if expression.lower() == 'exit':\n",
        "            print(\"Exiting the calculator.\")\n",
        "            break\n",
        "\n",
        "        result = evaluate_expression(expression)\n",
        "        print(\"Result:\", result)\n",
        "\n",
        "if __name__ == \"__main__\":\n",
        "    calculator()"
      ],
      "metadata": {
        "id": "8nQnVxjJuYtu",
        "colab": {
          "base_uri": "https://localhost:8080/"
        },
        "outputId": "17a44eba-4c2f-47db-d157-a1bc00005143"
      },
      "execution_count": 28,
      "outputs": [
        {
          "output_type": "stream",
          "name": "stdout",
          "text": [
            "Simple Command-Line Calculator\n",
            "Supported operations: +, -, *, /, ** (exponentiation), sqrt (square root), % (modulus)\n",
            "Type 'exit' to quit the program.\n",
            "Enter expression: 2+2\n",
            "Result: 4\n",
            "Enter expression: exit\n",
            "Exiting the calculator.\n"
          ]
        }
      ]
    },
    {
      "cell_type": "markdown",
      "metadata": {
        "id": "z3tBE7E-Xn5X"
      },
      "source": [
        "# Question 5 (30 points).\n",
        "\n",
        "In the field of Data Science, data is often formatted as a comma-delimited (CSV) file, where each line in a file corresponds to a field's value. Refer to Chapter 9 (p. 106) for more information on comma-delimited files.\n",
        "\n",
        "To answer this question, you will need to download the file [Assignment1_denton_housing.csv](https://raw.githubusercontent.com/unt-iialab/info5731-spring2022/main/assignments/Assignment1_denton_housing.csv) included with this assignment. The file contains statistics about housing in the city of Denton from 2008 to 2014. Write a program to implement the following questions.\n",
        "\n",
        "(a) (5 pts) Calculate the difference in the number of Occupied Housing Units from year to year and print it. The difference must be calculated for the consecutive years such as 2008-2009, 2009-2010 etc. Finally, print the values in the ascending order.\n",
        "\n",
        "(b) (5 pts) For all the years, calculate the percentage of housing units which are vacant an occupied. Print the results in the following format:\n",
        "\n",
        "Year Vacant Housing Units Occupied Housing Units\n",
        "\n",
        "    2008  30%   70%                          \n",
        "\t2009 ----- -----\n",
        "\t2010 ----- -----\n",
        "    2011 ----- -----\n",
        "\t2012 ----- -----\n",
        "    2013 ----- -----\n",
        "\t2014 ----- -----\n",
        "  \n",
        "  \n",
        "\n",
        "(c) (10 pts) Calculate and print the valued and years in which the highest number of housing units were vacant and occupied. Print the results in the following format:  \n",
        "\n",
        "                              Year\tValue\n",
        "\tVacant Housing Units\t  -----   -----\n",
        "\tOccupied Housing Units\t-----   -----\n",
        "\n",
        "(d) (10 pts) Calculate the harmonic mean of the total housing units and print it out. You can find the information about harmonic mean here: https://ncalculators.com/statistics/harmonic-mean-calculator.htm"
      ]
    },
    {
      "cell_type": "code",
      "execution_count": 30,
      "metadata": {
        "id": "lqGYuHBhcsRH",
        "colab": {
          "base_uri": "https://localhost:8080/"
        },
        "outputId": "04d8c7b4-9f6f-44a3-d95b-404b6f2f0c21"
      },
      "outputs": [
        {
          "output_type": "stream",
          "name": "stdout",
          "text": [
            "Pivoted DataFrame:\n",
            "title_field  year  Median Gross Rent  Occupied Housing Units  Owner Occupied  \\\n",
            "0            2008                768                   36711           17340   \n",
            "1            2009                769                   35916           18057   \n",
            "2            2010                780                   41007           18867   \n",
            "3            2011                821                   40704           18478   \n",
            "4            2012                842                   42108           20068   \n",
            "5            2013                887                   43673           20845   \n",
            "6            2014                905                   46295           21427   \n",
            "\n",
            "title_field  Renter Occupied  Total Housing Units  Vacant Housing Units  \n",
            "0                      19371                41194                  4483  \n",
            "1                      17859                39499                  3583  \n",
            "2                      22140                44642                  3635  \n",
            "3                      22226                44917                  4213  \n",
            "4                      22040                45121                  3013  \n",
            "5                      22828                47888                  4215  \n",
            "6                      24868                49109                  2814  \n",
            "\n",
            "Differences in Occupied Housing Units from year to year (ascending order):\n",
            "[-795, -303, 1404, 1565, 2622, 5091]\n",
            "\n",
            "Year Vacant Housing Units Occupied Housing Units\n",
            "2008.0 10.88% 89.12%\n",
            "2009.0 9.07% 90.93%\n",
            "2010.0 8.14% 91.86%\n",
            "2011.0 9.38% 90.62%\n",
            "2012.0 6.68% 93.32%\n",
            "2013.0 8.80% 91.20%\n",
            "2014.0 5.73% 94.27%\n",
            "\n",
            "Vacant Housing Units\n",
            "Year: 2008.0, Value: 4483.0\n",
            "Occupied Housing Units\n",
            "Year: 2014.0, Value: 46295.0\n",
            "\n",
            "Harmonic Mean of Total Housing Units: 44398.29\n"
          ]
        }
      ],
      "source": [
        "\n",
        "import pandas as pd\n",
        "from scipy.stats import hmean\n",
        "\n",
        "filename = 'Assignment1_denton_housing.csv'\n",
        "data = pd.read_csv(filename)\n",
        "\n",
        "pivot_table = data.pivot(index='year', columns='title_field', values='value')\n",
        "\n",
        "pivot_table = pivot_table.reset_index()\n",
        "\n",
        "\n",
        "print(\"Pivoted DataFrame:\")\n",
        "print(pivot_table)\n",
        "\n",
        "pivot_table['Occupied Housing Units Difference'] = pivot_table['Occupied Housing Units'].diff()\n",
        "differences = pivot_table['Occupied Housing Units Difference'].dropna().astype(int)\n",
        "sorted_differences = sorted(differences)\n",
        "print(\"\\nDifferences in Occupied Housing Units from year to year (ascending order):\")\n",
        "print(sorted_differences)\n",
        "\n",
        "print(\"\\nYear Vacant Housing Units Occupied Housing Units\")\n",
        "for index, row in pivot_table.iterrows():\n",
        "    total_units = row['Total Housing Units']\n",
        "    if total_units > 0:\n",
        "        vacant_percentage = (row['Vacant Housing Units'] / total_units) * 100\n",
        "        occupied_percentage = (row['Occupied Housing Units'] / total_units) * 100\n",
        "        print(f\"{row['year']} {vacant_percentage:.2f}% {occupied_percentage:.2f}%\")\n",
        "    else:\n",
        "        print(f\"{row['year']} ----- -----\")\n",
        "\n",
        "max_vacant_year = pivot_table.loc[pivot_table['Vacant Housing Units'].idxmax()]\n",
        "max_occupied_year = pivot_table.loc[pivot_table['Occupied Housing Units'].idxmax()]\n",
        "\n",
        "print(f\"\\nVacant Housing Units\")\n",
        "print(f\"Year: {max_vacant_year['year']}, Value: {max_vacant_year['Vacant Housing Units']}\")\n",
        "print(f\"Occupied Housing Units\")\n",
        "print(f\"Year: {max_occupied_year['year']}, Value: {max_occupied_year['Occupied Housing Units']}\")\n",
        "\n",
        "\n",
        "non_zero_total_units = pivot_table['Total Housing Units'][pivot_table['Total Housing Units'] > 0]\n",
        "\n",
        "if len(non_zero_total_units) > 0:\n",
        "    harmonic_mean = hmean(non_zero_total_units)\n",
        "    print(f\"\\nHarmonic Mean of Total Housing Units: {harmonic_mean:.2f}\")\n",
        "else:\n",
        "    print(\"\\nNo valid total housing units to calculate the harmonic mean.\")"
      ]
    },
    {
      "cell_type": "markdown",
      "source": [
        "# Mandatory Question\n",
        "\n",
        "Provide your thoughts on the assignment. What did you find challenging, and what aspects did you enjoy? Your opinion on the provided time to complete the assignment. Share any suggestions for improvement. Your feedback will be valuable for enhancing the learning experience."
      ],
      "metadata": {
        "id": "q8BFCvWp32cf"
      }
    },
    {
      "cell_type": "code",
      "source": [],
      "metadata": {
        "id": "_e557s2w4BpK"
      },
      "execution_count": 36,
      "outputs": []
    },
    {
      "cell_type": "markdown",
      "source": [
        "The assignment had a number of difficulties, including managing CSV data, developing reliable error correction in calculators, and carrying out intricate string manipulations. The varied activities, which included data analysis and the creation of useful tools, were interesting and fulfilling despite these challenges. Although there was enough time allotted, the learning process may be enhanced by more resources, automated testing, intermediate milestones, and more explicit instructions."
      ],
      "metadata": {
        "id": "S40-zarJjofS"
      }
    }
  ],
  "metadata": {
    "colab": {
      "provenance": [],
      "include_colab_link": true
    },
    "kernelspec": {
      "display_name": "Python 3 (ipykernel)",
      "language": "python",
      "name": "python3"
    },
    "language_info": {
      "codemirror_mode": {
        "name": "ipython",
        "version": 3
      },
      "file_extension": ".py",
      "mimetype": "text/x-python",
      "name": "python",
      "nbconvert_exporter": "python",
      "pygments_lexer": "ipython3",
      "version": "3.9.12"
    }
  },
  "nbformat": 4,
  "nbformat_minor": 0
}