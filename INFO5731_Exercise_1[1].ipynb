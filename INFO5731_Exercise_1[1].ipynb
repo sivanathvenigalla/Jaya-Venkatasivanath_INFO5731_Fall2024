{
  "cells": [
    {
      "cell_type": "markdown",
      "metadata": {
        "id": "DymRJbxDBCnf"
      },
      "source": [
        "# **INFO5731 Exercise 1**\n",
        "\n",
        "This exercise covers a variety of fundamental concepts in Python and is designed to help students improve their coding skills and problem-solving abilities.\n",
        "\n",
        "**Expectations**:\n",
        "*   Students are expected to complete the exercise during lecture period to meet the active participation criteria of the course.\n",
        "*   Use the provided .*ipynb* document to write your code & respond to the questions. Avoid generating a new file.\n",
        "*   Write complete answers and run all the cells before submission.\n",
        "*   Make sure the submission is \"clean\"; *i.e.*, no unnecessary code cells.\n",
        "*   Once finished, allow shared rights from top right corner (*see Canvas for details*).\n",
        "\n",
        "**Total points**: 40\n",
        "\n",
        "**Deadline**: This in-class exercise is due at the end of the day tomorrow, at 11:59 PM.\n",
        "\n",
        "**Late submissions cannot be considered, and no requests will be answered. Manage your time accordingly.**\n"
      ]
    },
    {
      "cell_type": "markdown",
      "metadata": {
        "id": "FBKvD6O_TY6e"
      },
      "source": [
        "## Question 1\n",
        "Write a Python program that  prompts the user to input the length and width of a rectangle, and then calculates and displays the area of the rectangle."
      ]
    },
    {
      "cell_type": "code",
      "execution_count": null,
      "metadata": {
        "colab": {
          "base_uri": "https://localhost:8080/",
          "height": 35
        },
        "id": "cikVKDXdTbzE",
        "outputId": "dd97c8bc-8716-423d-f729-571f5afb7f85"
      },
      "outputs": [
        {
          "data": {
            "application/vnd.google.colaboratory.intrinsic+json": {
              "type": "string"
            },
            "text/plain": [
              "'ABRACADABRA'"
            ]
          },
          "execution_count": 2,
          "metadata": {},
          "output_type": "execute_result"
        }
      ],
      "source": [
        "# write your answer here\n",
        "a=\"abracadabra\"\n",
        "a.upper()"
      ]
    },
    {
      "cell_type": "markdown",
      "metadata": {
        "id": "E9RqrlwdTfvl"
      },
      "source": [
        "## Question 2\n",
        "Create a Python program that interactively takes two numerical inputs from the user and swaps their values without utilizing an extra variable."
      ]
    },
    {
      "cell_type": "code",
      "execution_count": 4,
      "metadata": {
        "id": "4XvRknixTh1g"
      },
      "outputs": [
        {
          "name": "stdout",
          "output_type": "stream",
          "text": [
            "2 3\n",
            "3 2\n"
          ]
        }
      ],
      "source": [
        "# write your answer here\n",
        "a,b=map(int,input().split())\n",
        "print(\"Befroe Swap:\",a,b)\n",
        "a = a+b\n",
        "b = a-b\n",
        "a = a-b\n",
        "print(\"After Swap:\",a,b)"
      ]
    },
    {
      "cell_type": "markdown",
      "metadata": {
        "id": "03jb4GZsBkBS"
      },
      "source": [
        "## Question 3\n",
        "Write a Python script to determine and print the length of a user-input string."
      ]
    },
    {
      "cell_type": "code",
      "execution_count": 58,
      "metadata": {
        "id": "YaGLbSHHB8Ej"
      },
      "outputs": [
        {
          "name": "stdout",
          "output_type": "stream",
          "text": [
            "SivaNath Venigalla 18\n"
          ]
        }
      ],
      "source": [
        "# write your answer here\n",
        "s = input()\n",
        "print(s,len(s))"
      ]
    },
    {
      "cell_type": "markdown",
      "metadata": {
        "id": "jJDe71iLB616"
      },
      "source": [
        "## Question 4\n",
        "Construct a Python program that counts and displays the occurrences of each character in a given string.\n",
        "\n",
        "Sample String: 'openai.ai',\n",
        "\n",
        "Expected Result: {'a': 2, 'i': 2, '.': 1, 'o': 1, 'p': 1, 'e': 1, 'n': 1}"
      ]
    },
    {
      "cell_type": "code",
      "execution_count": 9,
      "metadata": {
        "id": "MtKskTzbCLaU"
      },
      "outputs": [
        {
          "name": "stdout",
          "output_type": "stream",
          "text": [
            "sivanth is erripukkk\n",
            "{'s': 2, 'i': 3, 'v': 1, 'a': 1, 'n': 1, 't': 1, 'h': 1, 'e': 1, 'r': 2, 'p': 1, 'u': 1, 'k': 3}\n"
          ]
        }
      ],
      "source": [
        "# write your answer here\n",
        "s = input().lower() \n",
        "print(s)\n",
        "frequency = {}\n",
        "for character in s:\n",
        "    if character in frequency:\n",
        "        frequency[character] = frequency[character] + 1\n",
        "    else:\n",
        "        if ord(character) >= 97 and ord(character) <= 122:\n",
        "            frequency[character] = 1\n",
        "print(frequency)\n"
      ]
    },
    {
      "cell_type": "markdown",
      "metadata": {
        "id": "55W9AMdXCSpV"
      },
      "source": [
        "## Question 5\n",
        "Design a Python code to calculate the sum of all elements in a user-provided list."
      ]
    },
    {
      "cell_type": "code",
      "execution_count": 10,
      "metadata": {
        "id": "I57NXsauCec2"
      },
      "outputs": [
        {
          "name": "stdout",
          "output_type": "stream",
          "text": [
            "20\n"
          ]
        }
      ],
      "source": [
        "# write your answer here\n",
        "l = list(map(int,input().split()))\n",
        "print(sum(l))"
      ]
    },
    {
      "cell_type": "markdown",
      "metadata": {
        "id": "4ulBZ6yhCi9F"
      },
      "source": [
        "## Question 6\n",
        "Write a Python program that modifies a given string by replacing all occurrences of its first character with '$', excluding the first character itself.\n",
        "\n",
        "\n",
        "Sample String : 'restart‘\n",
        "Expected Result : 'resta\\$t'"
      ]
    },
    {
      "cell_type": "code",
      "execution_count": 12,
      "metadata": {
        "id": "Fj0XhwbBCw2o"
      },
      "outputs": [
        {
          "name": "stdout",
          "output_type": "stream",
          "text": [
            "mada$\n"
          ]
        }
      ],
      "source": [
        "# write your answer here\n",
        "s = input()\n",
        "first_character = s[0]\n",
        "s = first_character + s[1:].replace(first_character,\"$\")\n",
        "print(s)"
      ]
    },
    {
      "cell_type": "markdown",
      "metadata": {
        "id": "qVXA3q7ET5JI"
      },
      "source": [
        "## Question 7\n",
        "Write a Python program using a while loop to compute the factorial of a user-supplied number."
      ]
    },
    {
      "cell_type": "code",
      "execution_count": 13,
      "metadata": {
        "id": "Lbt7R6UkT7BA"
      },
      "outputs": [
        {
          "name": "stdout",
          "output_type": "stream",
          "text": [
            "120\n"
          ]
        }
      ],
      "source": [
        "# write your answer here\n",
        "n = int(input())\n",
        "product = 1\n",
        "while n!=1:\n",
        "    product = product * n\n",
        "    n=n-1\n",
        "print(product)"
      ]
    },
    {
      "cell_type": "markdown",
      "metadata": {
        "id": "6YfbzXMNT--R"
      },
      "source": [
        "## Question 8\n",
        "Create a program that accepts a list of numbers as input and outputs a new list containing only the even numbers."
      ]
    },
    {
      "cell_type": "code",
      "execution_count": 15,
      "metadata": {
        "id": "54q7wMQPUAKu"
      },
      "outputs": [
        {
          "name": "stdout",
          "output_type": "stream",
          "text": [
            "[2, 4, 56, 8]\n"
          ]
        }
      ],
      "source": [
        "# write your answer here\n",
        "l = list(map(int,input().split()))\n",
        "new_list = list(filter(lambda x: x%2==0, l))\n",
        "print(new_list)"
      ]
    },
    {
      "cell_type": "markdown",
      "metadata": {
        "id": "_bIP7s1MCzue"
      },
      "source": [
        "## Question 9\n",
        "Design a Python function to check if a number is prime.\n"
      ]
    },
    {
      "cell_type": "code",
      "execution_count": 17,
      "metadata": {
        "id": "w79QilHXD3Mg"
      },
      "outputs": [
        {
          "name": "stdout",
          "output_type": "stream",
          "text": [
            "True\n"
          ]
        },
        {
          "data": {
            "text/plain": [
              "False"
            ]
          },
          "execution_count": 17,
          "metadata": {},
          "output_type": "execute_result"
        }
      ],
      "source": [
        "# write your answer here\n",
        "# I used bitwise operations approach\n",
        "def isPrime(n):\n",
        "    if n <= 1:\n",
        "        return False\n",
        "    if n <= 3:\n",
        "        return True\n",
        "    if n % 2 == 0 or n % 3 == 0:\n",
        "        return False\n",
        "    i = 5\n",
        "    while (i * i) <= n:\n",
        "        if (n % i == 0) or (n % (i + 2) == 0):\n",
        "            return False\n",
        "        i += 6\n",
        "    return True\n",
        "\n",
        "print(isPrime(2))\n",
        "isPrime(4)"
      ]
    },
    {
      "cell_type": "markdown",
      "metadata": {
        "id": "xCa2bK9aD4Q3"
      },
      "source": [
        "## Question 10\n",
        "Write a Python program to concatenate following dictionaries to create a new one.\n",
        "\n",
        "Sample Dictionary : dic1={1:10, 2:20}, dic2={3:30, 4:40}, dic3={5:50,6:60},\n",
        "\n",
        "Expected Result : {1: 10, 2: 20, 3: 30, 4: 40, 5: 50, 6: 60}\n"
      ]
    },
    {
      "cell_type": "code",
      "execution_count": 22,
      "metadata": {
        "id": "_z4aLqAbEET1"
      },
      "outputs": [
        {
          "data": {
            "text/plain": [
              "{1: 10, 2: 20, 3: 30, 4: 40, 5: 50, 6: 60}"
            ]
          },
          "execution_count": 22,
          "metadata": {},
          "output_type": "execute_result"
        }
      ],
      "source": [
        "# write your answer here\n",
        "dic1={1:10, 2:20} \n",
        "dic2={3:30, 4:40} \n",
        "dic3={5:50,6:60}\n",
        "dic1.update(dic2)\n",
        "dic1.update(dic3)\n",
        "dic1"
      ]
    },
    {
      "cell_type": "markdown",
      "metadata": {
        "id": "bkyZ2xSZUOst"
      },
      "source": [
        "## Question 11\n",
        "Design a Python function that takes a tuple of integers as input and returns the largest and smallest elements."
      ]
    },
    {
      "cell_type": "code",
      "execution_count": 40,
      "metadata": {
        "id": "3FdLRBKOUQEd"
      },
      "outputs": [
        {
          "name": "stdout",
          "output_type": "stream",
          "text": [
            "34 1\n"
          ]
        }
      ],
      "source": [
        "# write your answer here\n",
        "x = tuple(map(int,input().split()))\n",
        "print(max(x),min(x))\n"
      ]
    },
    {
      "cell_type": "markdown",
      "metadata": {
        "id": "O0TVi3gKUTpp"
      },
      "source": [
        "## Question 12\n",
        "Write a Python program that counts the frequency of each character in a given string and stores it in a dictionary."
      ]
    },
    {
      "cell_type": "code",
      "execution_count": 23,
      "metadata": {
        "id": "lAtfSfZXUU-h"
      },
      "outputs": [
        {
          "name": "stdout",
          "output_type": "stream",
          "text": [
            "SivaNath erripukKkK\n",
            "{'S': 1, 'i': 2, 'v': 1, 'a': 2, 'N': 1, 't': 1, 'h': 1, ' ': 1, 'e': 1, 'r': 2, 'p': 1, 'u': 1, 'k': 2, 'K': 2}\n"
          ]
        }
      ],
      "source": [
        "# write your answer here\n",
        "s = input() \n",
        "print(s)\n",
        "frequency = {}\n",
        "for character in s:\n",
        "    if character in frequency:\n",
        "        frequency[character] = frequency[character] + 1\n",
        "    else:\n",
        "        #Charcters include space and other special character and is also case sensitive \n",
        "        frequency[character] = 1\n",
        "print(frequency)"
      ]
    },
    {
      "cell_type": "markdown",
      "metadata": {
        "id": "0v48Vqa7FrQh"
      },
      "source": [
        "## Question 13\n",
        "Implement a Python script to identify duplicate elements in a provided array of integers. Return -1 if there are no duplicates."
      ]
    },
    {
      "cell_type": "code",
      "execution_count": 26,
      "metadata": {
        "id": "7WEmgq-DF2P1"
      },
      "outputs": [
        {
          "data": {
            "text/plain": [
              "-1"
            ]
          },
          "execution_count": 26,
          "metadata": {},
          "output_type": "execute_result"
        }
      ],
      "source": [
        "# write your answer here\n",
        "def FindDuplicates(l):\n",
        "    hash_map = {}\n",
        "    duplicates = []\n",
        "    for i in l:\n",
        "        if i in hash_map:\n",
        "            duplicates.append(i)\n",
        "        else:\n",
        "            hash_map[i]=1\n",
        "    if len(duplicates)==0:\n",
        "        return -1\n",
        "    else:\n",
        "        return set(duplicates)\n",
        "\n",
        "FindDuplicates([1,2,3,4,51])"
      ]
    },
    {
      "cell_type": "markdown",
      "metadata": {
        "id": "vD5PYLMuGga_"
      },
      "source": [
        "## Question 14\n",
        "Write a Python script to find the common elements between two lists."
      ]
    },
    {
      "cell_type": "code",
      "execution_count": 27,
      "metadata": {
        "id": "t0D5kdJUGjjw"
      },
      "outputs": [
        {
          "data": {
            "text/plain": [
              "{4, 5, 6}"
            ]
          },
          "execution_count": 27,
          "metadata": {},
          "output_type": "execute_result"
        }
      ],
      "source": [
        "# write your answer here\n",
        "l1 = [1,2,3,4,5,6]\n",
        "l2 = [4,5,6,7,8,9]\n",
        "\n",
        "set(l1)&set(l2)"
      ]
    },
    {
      "cell_type": "markdown",
      "metadata": {
        "id": "uHkd-y5VhVWC"
      },
      "source": [
        "## Question 15\n",
        "Write a Python program to randomly divide the students in this class into maximum of eight groups for term projects, each group should have at least 4 students but no more than 6 students (including 6).\n",
        "\n",
        "Here is the students list:\n",
        "\n",
        "student_list_spring_2024=[rb0846,\n",
        "ac1964,\n",
        "hc0612,\n",
        "md0912,\n",
        "ad1198,\n",
        "md0894,\n",
        "md0825,\n",
        "vg0598,\n",
        "vg0433,\n",
        "mh1068,\n",
        "yj0173,\n",
        "pk0553,\n",
        "tk0411,\n",
        "srk0204,\n",
        "sk2922,\n",
        "sk2936,\n",
        "mk1302,\n",
        "mk1317,\n",
        "tk0412,\n",
        "vk0656,\n",
        "sm2985,\n",
        "mm2372,\n",
        "un0045,\n",
        "an0892,\n",
        "sn0913,\n",
        "gp0252,\n",
        "ap1484,\n",
        "mr1765,\n",
        "sr1385,\n",
        "sr1335,\n",
        "hs0665,\n",
        "ms2060,\n",
        "gt0217,\n",
        "nt0385,\n",
        "tv0186,\n",
        "sv1394,\n",
        "sv1752,\n",
        "sv1555,\n",
        "sy0594\n",
        "]\n"
      ]
    },
    {
      "cell_type": "code",
      "execution_count": 57,
      "metadata": {
        "id": "3iGbmcOBhTwy"
      },
      "outputs": [
        {
          "name": "stdout",
          "output_type": "stream",
          "text": [
            "Group 1: ['pk0553', 'vg0433', 'nt0385', 'vg0598', 'sr1385']\n",
            "Group 2: ['hc0612', 'gp0252', 'mr1765', 'tv0186', 'sv1752']\n",
            "Group 3: ['srk0204', 'mm2372', 'sk2936', 'sm2985', 'ms2060']\n",
            "Group 4: ['mk1302', 'sv1394', 'md0894', 'sk2922', 'hs0665']\n",
            "Group 5: ['vk0656', 'an0892', 'ap1484', 'yj0173', 'sy0594']\n",
            "Group 6: ['sv1555', 'mk1317', 'gt0217', 'ac1964', 'sr1335']\n",
            "Group 7: ['mh1068', 'tk0411', 'ad1198', 'tk0412', 'sn0913']\n",
            "Group 8: ['md0912', 'rb0846', 'un0045', 'md0825']\n"
          ]
        }
      ],
      "source": [
        "# write your answer here\n",
        "import random\n",
        "student_list_spring_2024=[\"rb0846\",\"ac1964\",\"hc0612\",\"md0912\",\"ad1198\",\"md0894\",\"md0825\",\"vg0598\",\"vg0433\",\"mh1068\",\"yj0173\",\"pk0553\",\"tk0411\",\"srk0204\",\"sk2922\",\"sk2936\",\"mk1302\",\"mk1317\",\"tk0412\",\"vk0656\",\"sm2985\",\"mm2372\",\"un0045\",\"an0892\",\"sn0913\",\"gp0252\",\"ap1484\",\"mr1765\",\"sr1385\",\"sr1335\",\"hs0665\",\"ms2060\",\"gt0217\",\"nt0385\",\"tv0186\",\"sv1394\",\"sv1752\",\"sv1555\",\"sy0594\"]\n",
        "random.shuffle(student_list_spring_2024)\n",
        "num_groups = 8\n",
        "groups = [[] for _ in range(num_groups)]\n",
        "for i, student in enumerate(student_list_spring_2024):\n",
        "    groups[i % num_groups].append(student)\n",
        "while True:\n",
        "    large_groups = [group for group in groups if len(group) > 6]\n",
        "    small_groups = [group for group in groups if len(group) < 4]\n",
        "    if not large_groups or not small_groups:\n",
        "        break\n",
        "    student_to_move = large_groups[0].pop()\n",
        "    small_groups[0].append(student_to_move)\n",
        "\n",
        "for i, group in enumerate(groups, 1):\n",
        "    print(f\"Group {i}: {group}\")"
      ]
    },
    {
      "cell_type": "markdown",
      "metadata": {
        "id": "fmZ9vX20Qs3d"
      },
      "source": [
        "## Question 16\n",
        "Create a program that takes a positive integer 'n' as input and prints the count of even numbers from 1 to 'n'. Optimize the loop using the continue statement."
      ]
    },
    {
      "cell_type": "code",
      "execution_count": 31,
      "metadata": {
        "id": "W8Jw6sWMQs3d"
      },
      "outputs": [
        {
          "name": "stdout",
          "output_type": "stream",
          "text": [
            "2 4 6 8 10 12 14 16 18 20 22 24 26 28 30 32 34 36 38 40 42 44 22\n"
          ]
        }
      ],
      "source": [
        "# write your answer here\n",
        "n = int(input())\n",
        "i,count = 0,0\n",
        "while i<n:\n",
        "    i+=1\n",
        "    if i%2==1:\n",
        "        continue\n",
        "    count+=1\n",
        "print(count)"
      ]
    },
    {
      "cell_type": "markdown",
      "metadata": {
        "id": "hvq4APMhQs3d"
      },
      "source": [
        "## Question 17\n",
        "Develop a Python function called 'count_vowels' that takes a string as input and returns the count of vowels (both lowercase and uppercase) present in the string, ignoring spaces and non-alphabetic characters."
      ]
    },
    {
      "cell_type": "code",
      "execution_count": 33,
      "metadata": {
        "id": "ZnoxhSglQs3d"
      },
      "outputs": [
        {
          "data": {
            "text/plain": [
              "3"
            ]
          },
          "execution_count": 33,
          "metadata": {},
          "output_type": "execute_result"
        }
      ],
      "source": [
        "# write your answer here\n",
        "def count_vowels(s):\n",
        "    vowels = \"AaEeIiOoUu\"\n",
        "    count=0\n",
        "    for i in s:\n",
        "        if i in vowels:\n",
        "            count+=1\n",
        "    return count\n",
        "\n",
        "count_vowels(\"SivANath\")"
      ]
    },
    {
      "cell_type": "markdown",
      "metadata": {
        "id": "55FWoSJPVVM6"
      },
      "source": [
        "## Question 18\n",
        "Create a custom exception named ValueTooSmallError in Python. Write a program that takes user input for an age, and if the entered age is less than 18, raise the ValueTooSmallError with an appropriate error message."
      ]
    },
    {
      "cell_type": "code",
      "execution_count": 41,
      "metadata": {
        "id": "hwtr1wZmVX5A"
      },
      "outputs": [
        {
          "ename": "Exception",
          "evalue": "ValueTooSmallError",
          "output_type": "error",
          "traceback": [
            "\u001b[1;31m---------------------------------------------------------------------------\u001b[0m",
            "\u001b[1;31mException\u001b[0m                                 Traceback (most recent call last)",
            "\u001b[1;32m<ipython-input-41-9416ce1f3d09>\u001b[0m in \u001b[0;36m<module>\u001b[1;34m\u001b[0m\n\u001b[0;32m      2\u001b[0m \u001b[0mn\u001b[0m \u001b[1;33m=\u001b[0m \u001b[0mint\u001b[0m\u001b[1;33m(\u001b[0m\u001b[0minput\u001b[0m\u001b[1;33m(\u001b[0m\u001b[1;33m)\u001b[0m\u001b[1;33m)\u001b[0m\u001b[1;33m\u001b[0m\u001b[1;33m\u001b[0m\u001b[0m\n\u001b[0;32m      3\u001b[0m \u001b[1;32mif\u001b[0m \u001b[0mn\u001b[0m\u001b[1;33m<\u001b[0m\u001b[1;36m18\u001b[0m\u001b[1;33m:\u001b[0m\u001b[1;33m\u001b[0m\u001b[1;33m\u001b[0m\u001b[0m\n\u001b[1;32m----> 4\u001b[1;33m     \u001b[1;32mraise\u001b[0m \u001b[0mException\u001b[0m\u001b[1;33m(\u001b[0m\u001b[1;34m\"ValueTooSmallError\"\u001b[0m\u001b[1;33m)\u001b[0m\u001b[1;33m\u001b[0m\u001b[1;33m\u001b[0m\u001b[0m\n\u001b[0m",
            "\u001b[1;31mException\u001b[0m: ValueTooSmallError"
          ]
        }
      ],
      "source": [
        "# write your answer here\n",
        "n = int(input())\n",
        "if n<18:\n",
        "    raise Exception(\"ValueTooSmallError\")"
      ]
    },
    {
      "cell_type": "markdown",
      "metadata": {
        "id": "Q9ecagcaVazW"
      },
      "source": [
        "## Question 19\n",
        "Develop a script that reverses a given string without using built-in reverse functions."
      ]
    },
    {
      "cell_type": "code",
      "execution_count": 34,
      "metadata": {
        "id": "gycgckoAVZjR"
      },
      "outputs": [
        {
          "name": "stdout",
          "output_type": "stream",
          "text": [
            "kkupirre si aviS\n"
          ]
        }
      ],
      "source": [
        "# write your answer here\n",
        "print(input()[::-1])"
      ]
    },
    {
      "cell_type": "markdown",
      "metadata": {
        "id": "ZFG6RibifMLu"
      },
      "source": [
        "## Question 20\n",
        "Implement a Python script to generate a random password of a specified length."
      ]
    },
    {
      "cell_type": "code",
      "execution_count": 39,
      "metadata": {
        "id": "BFVrkEi9fNiD"
      },
      "outputs": [
        {
          "data": {
            "text/plain": [
              "'B!k5_b*Rkhy%Mr@jnEU32JkHcL+M3RmU'"
            ]
          },
          "execution_count": 39,
          "metadata": {},
          "output_type": "execute_result"
        }
      ],
      "source": [
        "# write your answer here\n",
        "import random\n",
        "def passwrod_genrator(n):\n",
        "    hash = \"ABCDEFGHIJKLMNOPQRSTUVWXYZabcdefghijklmnopqrstuvwxyz0123456789*@#$%!&()_-+=\"\n",
        "    hash_lenght = len(hash)\n",
        "    password =[]\n",
        "    for _ in range(n):\n",
        "        password.append(hash[random.randint(0,hash_lenght-1)])\n",
        "    return ''.join(password)\n",
        "passwrod_genrator(32)"
      ]
    },
    {
      "cell_type": "markdown",
      "metadata": {
        "id": "6SmvS7nSfbj8"
      },
      "source": [
        "# Try these questions"
      ]
    },
    {
      "cell_type": "markdown",
      "metadata": {
        "id": "cboAr5pEWUf5"
      },
      "source": [
        "(21) Define a base class called 'Vehicle' with attributes make and model. Create a derived class Car that inherits from Vehicle and has an additional attribute 'num_doors'. Demonstrate an example of creating an instance of the 'Car' class and accessing its attributes."
      ]
    },
    {
      "cell_type": "code",
      "execution_count": 43,
      "metadata": {
        "id": "phs9gciMWWAW"
      },
      "outputs": [
        {
          "name": "stdout",
          "output_type": "stream",
          "text": [
            "Make: Toyota\n",
            "Model: Corolla\n",
            "Number of doors: 4\n"
          ]
        }
      ],
      "source": [
        "# write your answer here\n",
        "\n",
        "class Vehicle:\n",
        "    def __init__(self, make, model):\n",
        "        self.make = make\n",
        "        self.model = model\n",
        "\n",
        "class Car(Vehicle):\n",
        "    def __init__(self, make, model, num_doors):\n",
        "        super().__init__(make, model)\n",
        "        self.num_doors = num_doors\n",
        "\n",
        "my_car = Car(\"Toyota\", \"Corolla\", 4)\n",
        "\n",
        "print(\"Make:\",my_car.make)\n",
        "print(\"Model:\",my_car.model)\n",
        "print(\"Number of doors:\",my_car.num_doors)\n"
      ]
    },
    {
      "cell_type": "markdown",
      "metadata": {
        "id": "J8HHefNtePwd"
      },
      "source": [
        "(22) Create a class called 'Shape' with a method calculate_area(). Implement two derived classes 'Circle' and 'Rectangle' that inherit from Shape and override the calculate_area() method. Demonstrate polymorphism by creating instances of both derived classes and calling the calculate_area() method."
      ]
    },
    {
      "cell_type": "code",
      "execution_count": 46,
      "metadata": {
        "id": "btnMmUZDeRhS"
      },
      "outputs": [
        {
          "name": "stdout",
          "output_type": "stream",
          "text": [
            "The area is: 78.53981633974483\n",
            "The area is: 24\n"
          ]
        }
      ],
      "source": [
        "# write your answer here\n",
        "import math\n",
        "\n",
        "class Shape:\n",
        "    def calculate_area(self):\n",
        "        pass\n",
        "\n",
        "class Circle(Shape):\n",
        "    def __init__(self, radius):\n",
        "        self.radius = radius\n",
        "\n",
        "    def calculate_area(self):\n",
        "        return math.pi * self.radius ** 2\n",
        "\n",
        "class Rectangle(Shape):\n",
        "    def __init__(self, width, height):\n",
        "        self.width = width\n",
        "        self.height = height\n",
        "\n",
        "    def calculate_area(self):\n",
        "        return self.width * self.height\n",
        "\n",
        "shapes = [Circle(5), Rectangle(4, 6)]\n",
        "\n",
        "for shape in shapes:\n",
        "    print(\"The area is:\", shape.calculate_area())\n"
      ]
    },
    {
      "cell_type": "markdown",
      "metadata": {
        "id": "z0oqEAlTeMUS"
      },
      "source": [
        "(23) Write a Python program that prompts the user to enter two numbers and perform a division operation. Handle exceptions for both zero division and invalid input (non-numeric input). Display appropriate error messages for each type of exception and ensure the program does not crash due to these errors."
      ]
    },
    {
      "cell_type": "code",
      "execution_count": 47,
      "metadata": {
        "id": "yjdc1zM1eMAs"
      },
      "outputs": [
        {
          "name": "stdout",
          "output_type": "stream",
          "text": [
            "The result of the division is: 0.8333333333333334\n"
          ]
        }
      ],
      "source": [
        "# write your answer here\n",
        "\n",
        "try:\n",
        "    num1 = float(input())\n",
        "    num2 = float(input())\n",
        "\n",
        "    result = num1 / num2\n",
        "except ValueError:\n",
        "    print(\"Error: Invalid input. Please enter numeric values.\")\n",
        "except ZeroDivisionError:\n",
        "    print(\"Error: Division by zero is not allowed.\")\n",
        "else:\n",
        "    print(\"The result of the division is:\", result)"
      ]
    },
    {
      "cell_type": "markdown",
      "metadata": {
        "id": "sZOhks1dXWEe"
      },
      "source": [
        "# Mandatory Question"
      ]
    },
    {
      "cell_type": "markdown",
      "metadata": {
        "id": "eqmHVEwaWhbV"
      },
      "source": [
        "**Important:**\n",
        "Reflecting on the first three lectures and the exercises you've completed, please provide feedback on your learning experience. Share your thoughts on whether the material covered was clear, the exercises were helpful, and if you feel more confident in applying Python programming concepts. Additionally, mention any specific areas where you would like more clarification or topics you would like to explore further in future lectures. Your feedback is valuable in shaping the course for an effective learning journey."
      ]
    },
    {
      "cell_type": "code",
      "execution_count": 49,
      "metadata": {
        "id": "akAVJn9YBTQT"
      },
      "outputs": [
        {
          "data": {
            "text/plain": [
              "\"\\nI do feel more comfortable using Python programming concepts now, particularly when it comes to the fundamentals like control structures, \\ndata types, and grammar. This confidence has been firmly established thanks to the practical activities. Though I still find these areas a little difficult,\\nI would like more thorough explanations or more practice with functions and modules. It would also be helpful to investigate subjects like object-oriented programming \\nor more complex data manipulation in subsequent sessions. All things considered, the course is off to a wonderful start, and I'm eager to learn more about Python programming.\\n\""
            ]
          },
          "execution_count": 49,
          "metadata": {},
          "output_type": "execute_result"
        }
      ],
      "source": [
        "'''\n",
        "I do feel more comfortable using Python programming concepts now, particularly when it comes to the fundamentals like control structures, \n",
        "data types, and grammar. This confidence has been firmly established thanks to the practical activities. Though I still find these areas a little difficult,\n",
        "I would like more thorough explanations or more practice with functions and modules. It would also be helpful to investigate subjects like object-oriented programming \n",
        "or more complex data manipulation in subsequent sessions. All things considered, the course is off to a wonderful start, and I'm eager to learn more about Python programming.\n",
        "'''"
      ]
    }
  ],
  "metadata": {
    "colab": {
      "collapsed_sections": [
        "FBKvD6O_TY6e",
        "E9RqrlwdTfvl",
        "03jb4GZsBkBS",
        "jJDe71iLB616",
        "55W9AMdXCSpV",
        "4ulBZ6yhCi9F",
        "6SmvS7nSfbj8",
        "sZOhks1dXWEe"
      ],
      "provenance": [],
      "toc_visible": true
    },
    "kernelspec": {
      "display_name": "Python 3 (ipykernel)",
      "language": "python",
      "name": "python3"
    },
    "language_info": {
      "codemirror_mode": {
        "name": "ipython",
        "version": 3
      },
      "file_extension": ".py",
      "mimetype": "text/x-python",
      "name": "python",
      "nbconvert_exporter": "python",
      "pygments_lexer": "ipython3",
      "version": "3.6.8"
    }
  },
  "nbformat": 4,
  "nbformat_minor": 0
}
