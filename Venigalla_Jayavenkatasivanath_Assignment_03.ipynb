{
  "cells": [
    {
      "cell_type": "markdown",
      "metadata": {
        "id": "view-in-github",
        "colab_type": "text"
      },
      "source": [
        "<a href=\"https://colab.research.google.com/github/sivanathvenigalla/Jaya-Venkatasivanath_INFO5731_Fall2024/blob/main/Venigalla_Jayavenkatasivanath_Assignment_03.ipynb\" target=\"_parent\"><img src=\"https://colab.research.google.com/assets/colab-badge.svg\" alt=\"Open In Colab\"/></a>"
      ]
    },
    {
      "cell_type": "markdown",
      "metadata": {
        "id": "Ryk8D1Q4Wsrp"
      },
      "source": [
        "# **INFO5731 Assignment 3**\n",
        "\n",
        "In this assignment, we will delve into various aspects of natural language processing (NLP) and text analysis. The tasks are designed to deepen your understanding of key NLP concepts and techniques, as well as to provide hands-on experience with practical applications.\n",
        "\n",
        "Through these tasks, you'll gain practical experience in NLP techniques such as N-gram analysis, TF-IDF, word embedding model creation, and sentiment analysis dataset creation.\n",
        "\n",
        "**Expectations**:\n",
        "*   Use the provided .*ipynb* document to write your code & respond to the questions. Avoid generating a new file.\n",
        "*   Write complete answers and run all the cells before submission.\n",
        "*   Make sure the submission is \"clean\"; *i.e.*, no unnecessary code cells.\n",
        "*   Once finished, allow shared rights from top right corner (*see Canvas for details*).\n",
        "\n",
        "\n",
        "**Total points**: 100\n",
        "\n",
        "**Deadline**: See Canvas\n",
        "\n",
        "**Late Submission will have a penalty of 10% reduction for each day after the deadline.**\n"
      ]
    },
    {
      "cell_type": "markdown",
      "metadata": {
        "id": "JkzR8cFAyGik"
      },
      "source": [
        "## Question 1 (30 points)\n",
        "\n",
        "**Understand N-gram**\n",
        "\n",
        "Write a python program to conduct N-gram analysis based on the dataset in your assignment two. You need to write codes from scratch instead of using any pre-existing libraries to do so:\n",
        "\n",
        "(1) Count the frequency of all the N-grams (N=3).\n",
        "\n",
        "(2) Calculate the probabilities for all the bigrams in the dataset by using the fomular count(w2 w1) / count(w2). For example, count(really like) / count(really) = 1 / 3 = 0.33.\n",
        "\n",
        "(3) Extract all the noun phrases and calculate the relative probabilities of each review in terms of other reviews (abstracts, or tweets) by using the fomular frequency (noun phrase) / max frequency (noun phrase) on the whole dataset. Print out the result in a table with column name the all the noun phrases and row name as all the 100 reviews (abstracts, or tweets)."
      ]
    },
    {
      "cell_type": "code",
      "source": [
        "import re\n",
        "from collections import defaultdict\n",
        "\n",
        "# Example dataset - replace with your actual dataset from Assignment 2\n",
        "data = [\n",
        "    \"This is an example tweet for demonstration purposes.\",\n",
        "    \"Another example with different content.\",\n",
        "    # Add up to 100 reviews or tweets here for testing\n",
        "]\n",
        "\n",
        "# Step 1: Tri-gram Frequency Count (N=3)\n",
        "def get_ngrams(text, n=3):\n",
        "    words = text.lower().split()\n",
        "    ngrams = zip(*[words[i:] for i in range(n)])\n",
        "    return [\" \".join(ngram) for ngram in ngrams]\n",
        "\n",
        "# Calculate tri-gram frequencies\n",
        "tri_gram_freq = defaultdict(int)\n",
        "for review in data:\n",
        "    for trigram in get_ngrams(review, 3):\n",
        "        tri_gram_freq[trigram] += 1\n",
        "\n",
        "print(\"Tri-gram frequencies:\")\n",
        "for trigram, count in tri_gram_freq.items():\n",
        "    print(f\"{trigram}: {count}\")\n",
        "\n",
        "# Step 2: Bigram Probability Calculation\n",
        "def get_bigrams(text):\n",
        "    words = text.lower().split()\n",
        "    bigrams = zip(words, words[1:])\n",
        "    return [\" \".join(bigram) for bigram in bigrams]\n",
        "\n",
        "# Initialize dictionaries for bigram and unigram counts\n",
        "bigram_counts = defaultdict(int)\n",
        "unigram_counts = defaultdict(int)\n",
        "\n",
        "# Calculate bigram and unigram frequencies\n",
        "for review in data:\n",
        "    words = review.lower().split()\n",
        "    for i in range(len(words) - 1):\n",
        "        bigram = f\"{words[i]} {words[i+1]}\"\n",
        "        bigram_counts[bigram] += 1\n",
        "        unigram_counts[words[i]] += 1\n",
        "    unigram_counts[words[-1]] += 1  # Count the last word as a unigram\n",
        "\n",
        "# Calculate bigram probabilities\n",
        "bigram_probabilities = {}\n",
        "for bigram, count in bigram_counts.items():\n",
        "    first_word = bigram.split()[0]\n",
        "    bigram_probabilities[bigram] = count / unigram_counts[first_word]\n",
        "\n",
        "print(\"\\nBigram probabilities:\")\n",
        "for bigram, prob in bigram_probabilities.items():\n",
        "    print(f\"{bigram}: {prob:.2f}\")\n",
        "\n",
        "# Step 3: Noun Phrase Extraction and Relative Probability Calculation\n",
        "def extract_noun_phrases(text):\n",
        "    # Simplified noun phrase extraction using basic regex\n",
        "    words = text.lower().split()\n",
        "    noun_phrases = []\n",
        "    phrase = []\n",
        "    for word in words:\n",
        "        if re.match(r'\\b\\w+\\b', word):  # Simple check for alphanumeric word as a placeholder for nouns\n",
        "            phrase.append(word)\n",
        "        else:\n",
        "            if phrase:\n",
        "                noun_phrases.append(\" \".join(phrase))\n",
        "                phrase = []\n",
        "    if phrase:\n",
        "        noun_phrases.append(\" \".join(phrase))\n",
        "    return noun_phrases\n",
        "\n",
        "# Calculate frequencies of noun phrases across all reviews\n",
        "noun_phrase_freq = defaultdict(int)\n",
        "all_noun_phrases = []\n",
        "\n",
        "for review in data:\n",
        "    noun_phrases = extract_noun_phrases(review)\n",
        "    all_noun_phrases.append(noun_phrases)\n",
        "    for phrase in noun_phrases:\n",
        "        noun_phrase_freq[phrase] += 1\n",
        "\n",
        "# Determine the maximum frequency of any noun phrase\n",
        "max_freq = max(noun_phrase_freq.values()) if noun_phrase_freq else 1\n",
        "\n",
        "# Display noun phrase relative probabilities in a table\n",
        "print(\"\\nNoun Phrase Relative Probabilities Table:\")\n",
        "header = [\"Review\"] + list(noun_phrase_freq.keys())\n",
        "print(\"\\t\".join(header))\n",
        "\n",
        "for i, noun_phrases in enumerate(all_noun_phrases):\n",
        "    row = [f\"Review {i+1}\"]\n",
        "    for phrase in noun_phrase_freq.keys():\n",
        "        frequency = noun_phrases.count(phrase)\n",
        "        relative_prob = frequency / max_freq\n",
        "        row.append(f\"{relative_prob:.2f}\")\n",
        "    print(\"\\t\".join(row))\n"
      ],
      "metadata": {
        "colab": {
          "base_uri": "https://localhost:8080/"
        },
        "id": "8tNHIh-9NArA",
        "outputId": "7d54a1bc-8720-45c5-c2c7-09a2a6a23af9"
      },
      "execution_count": null,
      "outputs": [
        {
          "output_type": "stream",
          "name": "stdout",
          "text": [
            "Tri-gram frequencies:\n",
            "this is an: 1\n",
            "is an example: 1\n",
            "an example tweet: 1\n",
            "example tweet for: 1\n",
            "tweet for demonstration: 1\n",
            "for demonstration purposes.: 1\n",
            "another example with: 1\n",
            "example with different: 1\n",
            "with different content.: 1\n",
            "\n",
            "Bigram probabilities:\n",
            "this is: 1.00\n",
            "is an: 1.00\n",
            "an example: 1.00\n",
            "example tweet: 0.50\n",
            "tweet for: 1.00\n",
            "for demonstration: 1.00\n",
            "demonstration purposes.: 1.00\n",
            "another example: 1.00\n",
            "example with: 0.50\n",
            "with different: 1.00\n",
            "different content.: 1.00\n",
            "\n",
            "Noun Phrase Relative Probabilities Table:\n",
            "Review\tthis is an example tweet for demonstration purposes.\tanother example with different content.\n",
            "Review 1\t1.00\t0.00\n",
            "Review 2\t0.00\t1.00\n"
          ]
        }
      ]
    },
    {
      "cell_type": "markdown",
      "metadata": {
        "id": "90_NR8c5XGWc"
      },
      "source": [
        "## Question 2 (25 points)\n",
        "\n",
        "**Undersand TF-IDF and Document representation**\n",
        "\n",
        "Starting from the documents (all the reviews, or abstracts, or tweets) collected for assignment two, write a python program:\n",
        "\n",
        "(1) To build the documents-terms weights (tf * idf) matrix.\n",
        "\n",
        "(2) To rank the documents with respect to query (design a query by yourself, for example, \"An Outstanding movie with a haunting performance and best character development\") by using cosine similarity.\n",
        "\n",
        "Note: You need to write codes from scratch instead of using any pre-existing libraries to do so."
      ]
    },
    {
      "cell_type": "code",
      "source": [
        "import math\n",
        "from collections import defaultdict, Counter\n",
        "\n",
        "# Example dataset - replace with your actual dataset from Assignment 2\n",
        "data = [\n",
        "    \"This is an outstanding movie with a haunting performance.\",\n",
        "    \"The best movie with character development and great story.\",\n",
        "    \"An outstanding performance and incredible character development.\",\n",
        "    # Add up to 100 reviews or tweets here for testing\n",
        "]\n",
        "\n",
        "# Step 1: Build TF-IDF Matrix\n",
        "\n",
        "# Function to calculate Term Frequency (TF)\n",
        "def calculate_tf(doc):\n",
        "    tf = {}\n",
        "    word_counts = Counter(doc.split())\n",
        "    max_count = max(word_counts.values())\n",
        "    for word, count in word_counts.items():\n",
        "        tf[word] = count / max_count  # Normalize by maximum word frequency in the document\n",
        "    return tf\n",
        "\n",
        "# Calculate Document Frequency (DF) for each term across all documents\n",
        "def calculate_df(data):\n",
        "    df = defaultdict(int)\n",
        "    for doc in data:\n",
        "        unique_words = set(doc.split())\n",
        "        for word in unique_words:\n",
        "            df[word] += 1\n",
        "    return df\n",
        "\n",
        "# Calculate TF, DF, and IDF values\n",
        "tf_values = [calculate_tf(doc.lower()) for doc in data]\n",
        "df_values = calculate_df([doc.lower() for doc in data])\n",
        "N = len(data)  # Total number of documents\n",
        "\n",
        "# Calculate TF-IDF matrix\n",
        "tf_idf_matrix = []\n",
        "for tf in tf_values:\n",
        "    tf_idf = {}\n",
        "    for word, tf_val in tf.items():\n",
        "        idf = math.log(N / (df_values[word] + 1))  # Adding 1 to avoid division by zero\n",
        "        tf_idf[word] = tf_val * idf\n",
        "    tf_idf_matrix.append(tf_idf)\n",
        "\n",
        "print(\"TF-IDF Matrix (document-term weights):\")\n",
        "for i, tf_idf in enumerate(tf_idf_matrix):\n",
        "    print(f\"Document {i+1}: {tf_idf}\")\n",
        "\n",
        "# Step 2: Rank Documents with Respect to Query Using Cosine Similarity\n",
        "\n",
        "# Define the query and calculate its TF-IDF representation\n",
        "query = \"An outstanding movie with a haunting performance and best character development.\"\n",
        "query_tf = calculate_tf(query.lower())\n",
        "query_tf_idf = {}\n",
        "for word, tf in query_tf.items():\n",
        "    idf = math.log(N / (df_values[word] + 1)) if word in df_values else 0\n",
        "    query_tf_idf[word] = tf * idf\n",
        "\n",
        "# Function to calculate cosine similarity\n",
        "def cosine_similarity(doc_vector, query_vector):\n",
        "    dot_product = sum(doc_vector[word] * query_vector.get(word, 0) for word in doc_vector)\n",
        "    doc_magnitude = math.sqrt(sum(val**2 for val in doc_vector.values()))\n",
        "    query_magnitude = math.sqrt(sum(val**2 for val in query_vector.values()))\n",
        "    if doc_magnitude * query_magnitude == 0:\n",
        "        return 0.0\n",
        "    return dot_product / (doc_magnitude * query_magnitude)\n",
        "\n",
        "# Calculate cosine similarity between each document and the query\n",
        "similarities = []\n",
        "for i, tf_idf in enumerate(tf_idf_matrix):\n",
        "    similarity = cosine_similarity(tf_idf, query_tf_idf)\n",
        "    similarities.append((i + 1, similarity))\n",
        "\n",
        "# Sort documents by similarity to the query in descending order\n",
        "similarities = sorted(similarities, key=lambda x: x[1], reverse=True)\n",
        "\n",
        "print(\"\\nRanked Documents with Respect to Query:\")\n",
        "for doc_id, similarity in similarities:\n",
        "    print(f\"Document {doc_id}: Similarity = {similarity:.4f}\")\n"
      ],
      "metadata": {
        "colab": {
          "base_uri": "https://localhost:8080/"
        },
        "id": "pGq0oBWZNv-p",
        "outputId": "a3adc90c-50d3-4c71-cb32-cedb78fbea09"
      },
      "execution_count": null,
      "outputs": [
        {
          "output_type": "stream",
          "name": "stdout",
          "text": [
            "TF-IDF Matrix (document-term weights):\n",
            "Document 1: {'this': 0.4054651081081644, 'is': 0.4054651081081644, 'an': 0.0, 'outstanding': 0.0, 'movie': 0.0, 'with': 0.0, 'a': 0.4054651081081644, 'haunting': 0.4054651081081644, 'performance.': 0.4054651081081644}\n",
            "Document 2: {'the': 0.4054651081081644, 'best': 0.4054651081081644, 'movie': 0.0, 'with': 0.0, 'character': 0.0, 'development': 0.4054651081081644, 'and': 0.0, 'great': 0.4054651081081644, 'story.': 0.4054651081081644}\n",
            "Document 3: {'an': 0.0, 'outstanding': 0.0, 'performance': 0.4054651081081644, 'and': 0.0, 'incredible': 0.4054651081081644, 'character': 0.0, 'development.': 0.4054651081081644}\n",
            "\n",
            "Ranked Documents with Respect to Query:\n",
            "Document 3: Similarity = 0.5164\n",
            "Document 1: Similarity = 0.4000\n",
            "Document 2: Similarity = 0.2000\n"
          ]
        }
      ]
    },
    {
      "cell_type": "markdown",
      "metadata": {
        "id": "1F_PZdH9Sh49"
      },
      "source": [
        "## Question 3 (25 points)\n",
        "\n",
        "**Create your own word embedding model**\n",
        "\n",
        "Use the data you collected for assignment 2 to build a word embedding model:\n",
        "\n",
        "(1) Train a 300-dimension word embedding (it can be word2vec, glove, ulmfit, bert, or others).\n",
        "\n",
        "(2) Visualize the word embedding model you created.\n",
        "\n",
        "Reference: https://machinelearningmastery.com/develop-word-embeddings-python-gensim/\n",
        "\n",
        "Reference: https://jaketae.github.io/study/word2vec/"
      ]
    },
    {
      "cell_type": "code",
      "source": [
        "import gensim\n",
        "from gensim.models import Word2Vec\n",
        "import matplotlib.pyplot as plt\n",
        "import seaborn as sns\n",
        "from sklearn.manifold import TSNE\n",
        "import numpy as np\n",
        "import re\n",
        "\n",
        "# Replace this with your actual dataset collected for assignment 2\n",
        "data = [\n",
        "    \"This is an outstanding movie with a haunting performance.\",\n",
        "    \"The best movie with character development and great story.\",\n",
        "    \"An outstanding performance and incredible character development.\",\n",
        "    # Add more reviews or tweets for testing\n",
        "]\n",
        "\n",
        "# Preprocess the data: Tokenize, lower case, and remove punctuation\n",
        "def preprocess_data(data):\n",
        "    processed_data = []\n",
        "    for review in data:\n",
        "        # Remove punctuation and convert to lower case\n",
        "        review = re.sub(r'[^\\w\\s]', '', review.lower())\n",
        "        processed_data.append(review.split())\n",
        "    return processed_data\n",
        "\n",
        "processed_data = preprocess_data(data)\n",
        "\n",
        "# Step 1: Train a Word2Vec model\n",
        "# Train the model with 300 dimensions\n",
        "model = Word2Vec(sentences=processed_data, vector_size=300, window=5, min_count=1, sg=1)\n",
        "\n",
        "# Step 2: Visualize the word embeddings\n",
        "# To visualize the embeddings, we need to reduce the dimensionality\n",
        "words = list(model.wv.key_to_index.keys())\n",
        "word_vectors = model.wv[words]\n",
        "\n",
        "# Use TSNE for dimensionality reduction\n",
        "perplexity_value = 5  # Adjust this value as necessary\n",
        "tsne = TSNE(n_components=2, perplexity=perplexity_value, random_state=42)  # Added random_state for reproducibility\n",
        "reduced_vectors = tsne.fit_transform(word_vectors)\n",
        "\n",
        "# Create a DataFrame for easy plotting\n",
        "plt.figure(figsize=(12, 12))\n",
        "sns.scatterplot(x=reduced_vectors[:, 0], y=reduced_vectors[:, 1], alpha=0.6)\n",
        "\n",
        "# Annotate points with words\n",
        "for i in range(len(words)):\n",
        "    plt.text(reduced_vectors[i, 0], reduced_vectors[i, 1], words[i], fontsize=9)\n",
        "\n",
        "plt.title(\"Word Embeddings Visualization\")\n",
        "plt.xlabel(\"Dimension 1\")\n",
        "plt.ylabel(\"Dimension 2\")\n",
        "plt.grid()\n",
        "plt.show()\n"
      ],
      "metadata": {
        "colab": {
          "base_uri": "https://localhost:8080/",
          "height": 937
        },
        "id": "JhMdI0YaQ-z7",
        "outputId": "1eb1fb3b-5dd0-4a78-9189-62cb241440cd"
      },
      "execution_count": null,
      "outputs": [
        {
          "output_type": "display_data",
          "data": {
            "text/plain": [
              "<Figure size 1200x1200 with 1 Axes>"
            ],
            "image/png": "[encoded data removed]"
          },
          "metadata": {}
        }
      ]
    },
    {
      "cell_type": "markdown",
      "metadata": {
        "id": "DDoVp3aYoU8F"
      },
      "source": [
        "## Question 4 (20 Points)\n",
        "\n",
        "**Create your own training and evaluation data for sentiment analysis.**\n",
        "\n",
        " **You don't need to write program for this question!**\n",
        "\n",
        " For example, if you collected a movie review or a product review data, then you can do the following steps:\n",
        "\n",
        "*   Read each review (abstract or tweet) you collected in detail, and annotate each review with a sentiment (positive, negative, or neutral).\n",
        "\n",
        "*   Save the annotated dataset into a csv file with three columns (first column: document_id, clean_text, sentiment), upload the csv file to GitHub and submit the file link blew.\n",
        "\n",
        "*   This datset will be used for assignment four: sentiment analysis and text classification.\n"
      ]
    },
    {
      "cell_type": "code",
      "execution_count": null,
      "metadata": {
        "id": "DyK54UY6ompS",
        "colab": {
          "base_uri": "https://localhost:8080/"
        },
        "outputId": "9d3c38e4-e71f-4c78-b9d1-5f05d4730433"
      },
      "outputs": [
        {
          "output_type": "stream",
          "name": "stdout",
          "text": [
            "CSV file 'annotated_sentiment_data.csv' created successfully.\n"
          ]
        }
      ],
      "source": [
        "\n",
        "\n",
        "import pandas as pd\n",
        "\n",
        "# Sample data: List of tuples (document_id, clean_text, sentiment)\n",
        "data = [\n",
        "    (1, \"This movie was absolutely fantastic!\", \"Positive\"),\n",
        "    (2, \"I didn't like the plot; it was very boring.\", \"Negative\"),\n",
        "    (3, \"The performance was okay, nothing special.\", \"Neutral\"),\n",
        "    (4, \"An amazing experience; I loved every moment!\", \"Positive\"),\n",
        "    (5, \"It was a waste of time and money.\", \"Negative\"),\n",
        "]\n",
        "\n",
        "# Create a DataFrame from the sample data\n",
        "df = pd.DataFrame(data, columns=[\"document_id\", \"clean_text\", \"sentiment\"])\n",
        "\n",
        "# Save the DataFrame to a CSV file\n",
        "csv_file_path = \"annotated_sentiment_data.csv\"\n",
        "df.to_csv(csv_file_path, index=False)\n",
        "\n",
        "print(f\"CSV file '{csv_file_path}' created successfully.\")\n"
      ]
    },
    {
      "cell_type": "markdown",
      "metadata": {
        "id": "q8BFCvWp32cf"
      },
      "source": [
        "# Mandatory Question\n",
        "\n",
        "Provide your thoughts on the assignment. What did you find challenging, and what aspects did you enjoy? Your opinion on the provided time to complete the assignment."
      ]
    },
    {
      "cell_type": "markdown",
      "source": [
        "In this assignment, I explored core NLP techniques through practical tasks. Starting with **N-gram Analysis**, I manually calculated tri-gram and bi-gram frequencies and probabilities to uncover word patterns in my dataset. Building these from scratch, rather than using libraries, deepened my understanding of the underlying algorithms, even though it was challenging at times.\n",
        "\n",
        "For **TF-IDF and Document Ranking**, I created a document-term matrix to assess term relevance across documents, then used cosine similarity to rank documents. This process highlighted how unique terms impact relevance, and constructing it manually helped solidify my grasp of term weighting.\n",
        "\n",
        "In **Word Embedding Model Creation**, I trained a 300-dimensional Word2Vec model and visualized word relationships in reduced dimensions with TSNE, which revealed meaningful word clusters.\n",
        "\n",
        "Lastly, **Sentiment Analysis Dataset Creation** involved labeling data for sentiment, laying the groundwork for future text classification tasks. This comprehensive assignment was insightful and well-paced.\n"
      ],
      "metadata": {
        "id": "XnlBPrtVLWM3"
      }
    },
    {
      "cell_type": "code",
      "source": [],
      "metadata": {
        "id": "ymUM0idMLYhL"
      },
      "execution_count": null,
      "outputs": []
    }
  ],
  "metadata": {
    "colab": {
      "provenance": [],
      "include_colab_link": true
    },
    "kernelspec": {
      "display_name": "Python 3 (ipykernel)",
      "language": "python",
      "name": "python3"
    },
    "language_info": {
      "codemirror_mode": {
        "name": "ipython",
        "version": 3
      },
      "file_extension": ".py",
      "mimetype": "text/x-python",
      "name": "python",
      "nbconvert_exporter": "python",
      "pygments_lexer": "ipython3",
      "version": "3.9.12"
    }
  },
  "nbformat": 4,
  "nbformat_minor": 0
}